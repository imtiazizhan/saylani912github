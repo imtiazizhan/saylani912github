{
 "cells": [
  {
   "cell_type": "markdown",
   "id": "0965e7df-1f32-4362-9976-fdfb4d4fa97a",
   "metadata": {},
   "source": [
    "### RECAP"
   ]
  },
  {
   "cell_type": "code",
   "execution_count": null,
   "id": "da0f5f5e-0816-47ca-852c-2cada116abbe",
   "metadata": {},
   "outputs": [],
   "source": [
    "matric_pass= false\n",
    "if matric_pass:\n",
    "    print (f\" can proccesed with the test \")\n",
    "    test_cleared=input(status of test (pass/fail):\")\n",
    "else:\n",
    "    print (f\"you "
   ]
  },
  {
   "cell_type": "code",
   "execution_count": 12,
   "id": "5e174e54-2dd9-45d6-adfd-31eb8adb358f",
   "metadata": {},
   "outputs": [
    {
     "name": "stdout",
     "output_type": "stream",
     "text": [
      "Matric Pass and test cleared pass\n"
     ]
    }
   ],
   "source": [
    "matric_pass = True\n",
    "test_cleared = True\n",
    "if (matric_pass and test_cleared):\n",
    "    print(\"Matric Pass and test cleared pass\")\n",
    "else:\n",
    "    print(\"You are not eligible to take admission\")\n",
    "    "
   ]
  },
  {
   "cell_type": "code",
   "execution_count": 13,
   "id": "503d25e0-1169-4117-b453-0b618c6493a1",
   "metadata": {},
   "outputs": [
    {
     "name": "stdout",
     "output_type": "stream",
     "text": [
      "You are on waiting\n"
     ]
    }
   ],
   "source": [
    "matric_pass = True\n",
    "test_cleared = False\n",
    "if (matric_pass and test_cleared):\n",
    "    print(\"Matric Pass and test cleared pass\")\n",
    "elif(matric_pass):\n",
    "    print(\"You are on waiting\")\n",
    "else:\n",
    "    print(\"You are not eligible to take admission\")"
   ]
  },
  {
   "cell_type": "markdown",
   "id": "ab4106bd-07a4-428e-a255-d53e818150d5",
   "metadata": {},
   "source": [
    "### list\n",
    "\n",
    "problem Cant not store similar type values in varaibales \n",
    "solution: List introduce the way to store same collection of values\n"
   ]
  },
  {
   "cell_type": "code",
   "execution_count": 23,
   "id": "f49a6d83-735c-4ccd-904e-b1a58c49be89",
   "metadata": {},
   "outputs": [],
   "source": [
    "city_0= \"Pakistan\"\n",
    "city_1= \"China\"\n",
    "city_2= \"England\"\n",
    "city_3= \"Japan\"\n",
    "city_4= \"Canada\""
   ]
  },
  {
   "cell_type": "markdown",
   "id": "84e945de-c7aa-4a54-8df0-d2d429623be3",
   "metadata": {},
   "source": [
    "country = [\"Pakistan\", \"China\",\"England\",\"Japan\",\"Canada\"]\n",
    "\n",
    "print (type (country))"
   ]
  },
  {
   "cell_type": "code",
   "execution_count": 31,
   "id": "53afcfbb-91ff-4dc3-a84e-b860a9af00b2",
   "metadata": {},
   "outputs": [
    {
     "name": "stdout",
     "output_type": "stream",
     "text": [
      "<class 'list'>\n"
     ]
    }
   ],
   "source": [
    "country = [\"Pakistan\", \"China\",\"England\",\"Japan\",\"Canada\"]\n",
    "\n",
    "\n",
    "print (type (country))\n"
   ]
  },
  {
   "cell_type": "code",
   "execution_count": 26,
   "id": "8b28ac62-5b03-406b-b833-1009eb5de920",
   "metadata": {},
   "outputs": [
    {
     "name": "stdout",
     "output_type": "stream",
     "text": [
      "<class 'int'>\n"
     ]
    }
   ],
   "source": [
    "x = 123\n",
    "\n",
    "print (type (x))"
   ]
  },
  {
   "cell_type": "code",
   "execution_count": 27,
   "id": "60e0a6b2-7496-40f1-ac0a-9b11d3836a80",
   "metadata": {},
   "outputs": [
    {
     "name": "stdout",
     "output_type": "stream",
     "text": [
      "<class 'float'>\n"
     ]
    }
   ],
   "source": [
    "x = 123.45\n",
    "\n",
    "print (type (x))"
   ]
  },
  {
   "cell_type": "code",
   "execution_count": 28,
   "id": "0b3c9e8f-7f5b-4d41-972c-5968cb3e4673",
   "metadata": {},
   "outputs": [
    {
     "name": "stdout",
     "output_type": "stream",
     "text": [
      "<class 'str'>\n"
     ]
    }
   ],
   "source": [
    "x = \"ZAMIR\"\n",
    "\n",
    "print (type (x))"
   ]
  },
  {
   "cell_type": "code",
   "execution_count": 32,
   "id": "fc9c5a09-ca04-4dcc-87c1-92df9baaba97",
   "metadata": {},
   "outputs": [
    {
     "data": {
      "text/plain": [
       "['England', 'Japan']"
      ]
     },
     "execution_count": 32,
     "metadata": {},
     "output_type": "execute_result"
    }
   ],
   "source": [
    "country = [\"Pakistan\", \"China\",\"England\",\"Japan\",\"Canada\"]\n",
    "country [-3:-1]"
   ]
  },
  {
   "cell_type": "code",
   "execution_count": null,
   "id": "fee7e520-8271-468a-a13c-7255bed624a0",
   "metadata": {},
   "outputs": [],
   "source": [
    "friend=[\"zain\", \"ahmed\" ]"
   ]
  },
  {
   "cell_type": "code",
   "execution_count": 38,
   "id": "7503c6d9-3014-44c8-962f-7cbb286dfba0",
   "metadata": {},
   "outputs": [
    {
     "data": {
      "text/plain": [
       "['Pakistan', 'England', 'Canada', 'OMAN']"
      ]
     },
     "execution_count": 38,
     "metadata": {},
     "output_type": "execute_result"
    }
   ],
   "source": [
    "country = [\"Pakistan\", \"China\",\"England\",\"Japan\",\"Canada\",\"Rusia\",\"OMAN\"]\n",
    "country [0::2]"
   ]
  },
  {
   "cell_type": "code",
   "execution_count": 40,
   "id": "be95344a-c4c1-422f-ab9f-d580cf1564df",
   "metadata": {},
   "outputs": [
    {
     "data": {
      "text/plain": [
       "['England', 'OMAN']"
      ]
     },
     "execution_count": 40,
     "metadata": {},
     "output_type": "execute_result"
    }
   ],
   "source": [
    "country = [\"Pakistan\", \"China\",\"England\",\"Japan\",\"Canada\",\"Rusia\",\"OMAN\"]\n",
    "country [2::4]"
   ]
  },
  {
   "cell_type": "code",
   "execution_count": 42,
   "id": "1a317235-37ae-4f10-9c60-c52f8ac9ca78",
   "metadata": {},
   "outputs": [
    {
     "data": {
      "text/plain": [
       "['Pakistan', 'China', 'England', 'Japan', 'Canada', 'Rusia', 'OMAN']"
      ]
     },
     "execution_count": 42,
     "metadata": {},
     "output_type": "execute_result"
    }
   ],
   "source": [
    "country = [\"Pakistan\", \"China\",\"England\",\"Japan\",\"Canada\",\"Rusia\",\"OMAN\"]\n",
    "country [::1] #madam"
   ]
  },
  {
   "cell_type": "code",
   "execution_count": 45,
   "id": "6812c7c2-5104-4cfc-94e0-905e373449e8",
   "metadata": {},
   "outputs": [
    {
     "name": "stdout",
     "output_type": "stream",
     "text": [
      "['Pakistan', 'China', 'England', 'Japan', 'Canada', 'Rusia', 'OMAN']\n"
     ]
    }
   ],
   "source": [
    "country = ['Pakistan', 'China', 'England', 'Japan', 'Canada', 'Rusia', 'OMAN']\n",
    "print(country)"
   ]
  },
  {
   "cell_type": "code",
   "execution_count": null,
   "id": "f56fa851-c935-44e2-8531-49ccd23afcc3",
   "metadata": {},
   "outputs": [],
   "source": []
  },
  {
   "cell_type": "code",
   "execution_count": 47,
   "id": "4b95dedc-d4ec-438d-97d2-08399eaab269",
   "metadata": {},
   "outputs": [
    {
     "data": {
      "text/plain": [
       "['__add__',\n",
       " '__class__',\n",
       " '__class_getitem__',\n",
       " '__contains__',\n",
       " '__delattr__',\n",
       " '__delitem__',\n",
       " '__dir__',\n",
       " '__doc__',\n",
       " '__eq__',\n",
       " '__format__',\n",
       " '__ge__',\n",
       " '__getattribute__',\n",
       " '__getitem__',\n",
       " '__getstate__',\n",
       " '__gt__',\n",
       " '__hash__',\n",
       " '__iadd__',\n",
       " '__imul__',\n",
       " '__init__',\n",
       " '__init_subclass__',\n",
       " '__iter__',\n",
       " '__le__',\n",
       " '__len__',\n",
       " '__lt__',\n",
       " '__mul__',\n",
       " '__ne__',\n",
       " '__new__',\n",
       " '__reduce__',\n",
       " '__reduce_ex__',\n",
       " '__repr__',\n",
       " '__reversed__',\n",
       " '__rmul__',\n",
       " '__setattr__',\n",
       " '__setitem__',\n",
       " '__sizeof__',\n",
       " '__str__',\n",
       " '__subclasshook__',\n",
       " 'append',\n",
       " 'clear',\n",
       " 'copy',\n",
       " 'count',\n",
       " 'extend',\n",
       " 'index',\n",
       " 'insert',\n",
       " 'pop',\n",
       " 'remove',\n",
       " 'reverse',\n",
       " 'sort']"
      ]
     },
     "execution_count": 47,
     "metadata": {},
     "output_type": "execute_result"
    }
   ],
   "source": [
    "dir(country) #method-1 press .tab to get intelligence regarding available function\n",
    "   #method-2 "
   ]
  },
  {
   "cell_type": "markdown",
   "id": "1e95411e-51bb-4f77-916a-32e9b69481d2",
   "metadata": {},
   "source": [
    "### country.append()"
   ]
  },
  {
   "cell_type": "code",
   "execution_count": 57,
   "id": "1f766f67-245b-4f24-8ba4-b5736c450459",
   "metadata": {},
   "outputs": [],
   "source": [
    "country = ['Pakistan', 'China', 'England', 'Japan', 'Canada', 'Rusia', 'OMAN']\n",
    "\n",
    "country.append(\"Iran\")"
   ]
  },
  {
   "cell_type": "code",
   "execution_count": 59,
   "id": "5e22310b-3215-426e-953a-4aea228b6488",
   "metadata": {},
   "outputs": [
    {
     "name": "stdout",
     "output_type": "stream",
     "text": [
      "['Pakistan', 'China', 'England', 'Japan', 'Canada', 'Rusia', 'OMAN', 'Iran']\n"
     ]
    }
   ],
   "source": [
    "print(country)"
   ]
  },
  {
   "cell_type": "code",
   "execution_count": 68,
   "id": "1303a128-219e-4f30-9436-ac3506d21245",
   "metadata": {},
   "outputs": [],
   "source": [
    "country = ['Pakistan', 'China', 'England', 'Japan', 'Canada', 'Rusia', 'OMAN']\n",
    "\n",
    "country.insert(0, \"India\")"
   ]
  },
  {
   "cell_type": "code",
   "execution_count": 66,
   "id": "0093b7db-17dc-46a6-9755-97339df78692",
   "metadata": {},
   "outputs": [
    {
     "data": {
      "text/plain": [
       "['India', 'Pakistan', 'China', 'England', 'Japan', 'Canada', 'Rusia', 'OMAN']"
      ]
     },
     "execution_count": 66,
     "metadata": {},
     "output_type": "execute_result"
    }
   ],
   "source": [
    "country"
   ]
  },
  {
   "cell_type": "markdown",
   "id": "455d868f-2369-498c-b735-cae8ef2dddfc",
   "metadata": {},
   "source": [
    "## deleting and removing cell"
   ]
  },
  {
   "cell_type": "code",
   "execution_count": 80,
   "id": "3a1bba4d-94d9-40bc-bab8-c3a0b86e4171",
   "metadata": {},
   "outputs": [],
   "source": [
    "country= ['India', 'Pakistan', 'China', 'England', 'Japan', 'Canada', 'Rusia', 'OMAN']\n",
    "country [0]\n",
    "\n",
    "country.remove('India')"
   ]
  },
  {
   "cell_type": "code",
   "execution_count": 74,
   "id": "7acab620-d1e8-44e5-b100-7f5458c90d91",
   "metadata": {},
   "outputs": [],
   "source": [
    "country.remove('India')"
   ]
  },
  {
   "cell_type": "code",
   "execution_count": 75,
   "id": "5eb74360-a25c-4433-bdd7-e34ccd99fc8d",
   "metadata": {},
   "outputs": [
    {
     "data": {
      "text/plain": [
       "['Pakistan', 'China', 'England', 'Japan', 'Canada', 'Rusia', 'OMAN']"
      ]
     },
     "execution_count": 75,
     "metadata": {},
     "output_type": "execute_result"
    }
   ],
   "source": [
    "country"
   ]
  },
  {
   "cell_type": "code",
   "execution_count": 85,
   "id": "d9cc797a-ff5b-4f16-bfef-232ab10bddf2",
   "metadata": {},
   "outputs": [
    {
     "ename": "IndexError",
     "evalue": "pop index out of range",
     "output_type": "error",
     "traceback": [
      "\u001b[1;31m---------------------------------------------------------------------------\u001b[0m",
      "\u001b[1;31mIndexError\u001b[0m                                Traceback (most recent call last)",
      "Cell \u001b[1;32mIn[85], line 3\u001b[0m\n\u001b[0;32m      1\u001b[0m \u001b[38;5;28;01mdel\u001b[39;00m(country[\u001b[38;5;241m0\u001b[39m])\n\u001b[1;32m----> 3\u001b[0m holding_popcountry \u001b[38;5;241m=\u001b[39mcountry\u001b[38;5;241m.\u001b[39mpop(\u001b[38;5;241m3\u001b[39m)\n",
      "\u001b[1;31mIndexError\u001b[0m: pop index out of range"
     ]
    }
   ],
   "source": [
    "del(country[0])\n",
    "\n"
   ]
  },
  {
   "cell_type": "markdown",
   "id": "b7f8f66d-608e-4e43-91de-4c7ddff01e72",
   "metadata": {},
   "source": [
    "## Poping values from list"
   ]
  },
  {
   "cell_type": "code",
   "execution_count": 82,
   "id": "2c273ccc-8dfd-4752-bf7f-52ceafb4ecd2",
   "metadata": {},
   "outputs": [],
   "source": [
    "holding_popcountry =country.pop(3)"
   ]
  },
  {
   "cell_type": "code",
   "execution_count": 87,
   "id": "6d34b069-1c1d-4a2f-a967-acda0ab3567e",
   "metadata": {},
   "outputs": [],
   "source": [
    "task = ['prayingFajar' , 'runing', 'Breakfast', 'studying']\n",
    "tasks_done = []"
   ]
  },
  {
   "cell_type": "code",
   "execution_count": 88,
   "id": "fea73de1-16a1-476f-8c4b-127aeb08f14c",
   "metadata": {},
   "outputs": [
    {
     "data": {
      "text/plain": [
       "['prayingFajar', 'runing', 'Breakfast', 'studying']"
      ]
     },
     "execution_count": 88,
     "metadata": {},
     "output_type": "execute_result"
    }
   ],
   "source": [
    "task"
   ]
  },
  {
   "cell_type": "code",
   "execution_count": 91,
   "id": "8b7da70f-3f64-4190-858c-9db1116632d8",
   "metadata": {},
   "outputs": [],
   "source": [
    "tasks_done.append(task.pop(0))"
   ]
  },
  {
   "cell_type": "code",
   "execution_count": 92,
   "id": "c473a5d7-d11b-4d76-b648-49a55191eaa5",
   "metadata": {},
   "outputs": [
    {
     "data": {
      "text/plain": [
       "['runing', 'Breakfast', 'studying']"
      ]
     },
     "execution_count": 92,
     "metadata": {},
     "output_type": "execute_result"
    }
   ],
   "source": [
    "task"
   ]
  },
  {
   "cell_type": "code",
   "execution_count": 93,
   "id": "bf4011e7-d2a0-428b-acca-977ee9bc911d",
   "metadata": {},
   "outputs": [
    {
     "data": {
      "text/plain": [
       "['prayingFajar']"
      ]
     },
     "execution_count": 93,
     "metadata": {},
     "output_type": "execute_result"
    }
   ],
   "source": [
    "tasks_done"
   ]
  },
  {
   "cell_type": "markdown",
   "id": "18966b22-1145-494c-83f8-489aa30a3ddf",
   "metadata": {},
   "source": [
    "## Extra method"
   ]
  },
  {
   "cell_type": "markdown",
   "id": "d520e9e2-364a-4bf7-8814-552fed545239",
   "metadata": {},
   "source": [
    "task done.clear() #removed "
   ]
  },
  {
   "cell_type": "code",
   "execution_count": 94,
   "id": "bb0cc6b4-dd3a-4984-b06f-8827aa7b10d5",
   "metadata": {},
   "outputs": [],
   "source": [
    "todo_list = task.copy()"
   ]
  },
  {
   "cell_type": "code",
   "execution_count": 95,
   "id": "909dadc0-1fc0-492c-9728-e143594c3188",
   "metadata": {},
   "outputs": [
    {
     "data": {
      "text/plain": [
       "['runing', 'Breakfast', 'studying']"
      ]
     },
     "execution_count": 95,
     "metadata": {},
     "output_type": "execute_result"
    }
   ],
   "source": [
    "todo_list"
   ]
  },
  {
   "cell_type": "code",
   "execution_count": 96,
   "id": "4fdddb46-f00a-4de9-8e4f-50170df6246a",
   "metadata": {},
   "outputs": [
    {
     "data": {
      "text/plain": [
       "['runing', 'Breakfast', 'studying']"
      ]
     },
     "execution_count": 96,
     "metadata": {},
     "output_type": "execute_result"
    }
   ],
   "source": [
    "task"
   ]
  },
  {
   "cell_type": "code",
   "execution_count": null,
   "id": "6aba25f0-7b68-4b28-8f5c-49bfb8616815",
   "metadata": {},
   "outputs": [],
   "source": [
    "task.appened(\"shopping\")"
   ]
  },
  {
   "cell_type": "code",
   "execution_count": null,
   "id": "8c32ee68-e4fd-4ef8-be85-856ad2d581a7",
   "metadata": {},
   "outputs": [],
   "source": [
    "task"
   ]
  }
 ],
 "metadata": {
  "kernelspec": {
   "display_name": "Python 3 (ipykernel)",
   "language": "python",
   "name": "python3"
  },
  "language_info": {
   "codemirror_mode": {
    "name": "ipython",
    "version": 3
   },
   "file_extension": ".py",
   "mimetype": "text/x-python",
   "name": "python",
   "nbconvert_exporter": "python",
   "pygments_lexer": "ipython3",
   "version": "3.11.7"
  }
 },
 "nbformat": 4,
 "nbformat_minor": 5
}
